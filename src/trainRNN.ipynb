{
 "cells": [
  {
   "cell_type": "code",
   "execution_count": 4,
   "id": "cb423019",
   "metadata": {},
   "outputs": [],
   "source": [
    "import pandas as pd\n",
    "import numpy as np\n",
    "import tensorflow as tf\n",
    "from tensorflow.keras.layers import Dense\n",
    "from tensorflow.keras.models import Sequential\n",
    "from tensorflow.keras.preprocessing.text import Tokenizer\n",
    "from tensorflow.keras.preprocessing.sequence import pad_sequences\n",
    "from tensorflow.keras.models import Sequential\n",
    "from tensorflow.keras.layers import Embedding, SimpleRNN, Dense, Dropout, Bidirectional\n",
    "from tensorflow.keras.optimizers import Adam\n",
    "\n",
    "\n",
    "from layers.embedding import EmbeddingLayer\n",
    "from layers.rnn.bidirectionalRNN import BidirectionalRNN\n",
    "from layers.rnn.unidirectionalRNN import UnidirectionalRNN\n",
    "from layers.dropout import DropoutLayer\n",
    "from layers.dense import DenseLayer\n",
    "\n",
    "from something.model import Model\n",
    "from something.rnn import RNN\n",
    "from utils.evaluate import evaluate_model\n",
    "\n",
    "from sklearn.metrics import f1_score\n",
    "import random"
   ]
  },
  {
   "cell_type": "code",
   "execution_count": 5,
   "id": "e13c0d85",
   "metadata": {},
   "outputs": [],
   "source": [
    "train = pd.read_csv('data/train.csv')\n",
    "test = pd.read_csv('data/test.csv')\n",
    "valid = pd.read_csv('data/valid.csv')\n",
    "train['label'] = train['label'].map({'neutral': 0, 'positive': 1, 'negative': 2}).astype(np.float32)\n",
    "test['label'] = test['label'].map({'neutral': 0, 'positive': 1, 'negative': 2}).astype(np.float32)\n",
    "valid['label'] = valid['label'].map({'neutral': 0, 'positive': 1, 'negative': 2}).astype(np.float32)\n",
    "\n",
    "# Set random seed for reproducibility\n",
    "seed = 42\n",
    "random.seed(seed)                         # python random\n",
    "np.random.seed(seed)                      # numpy\n",
    "tf.random.set_seed(seed)   "
   ]
  },
  {
   "cell_type": "code",
   "execution_count": 6,
   "id": "3bc80393",
   "metadata": {},
   "outputs": [
    {
     "name": "stdout",
     "output_type": "stream",
     "text": [
      "Vocabulary size: 2796\n"
     ]
    }
   ],
   "source": [
    "tokenizer = Tokenizer(oov_token=\"<UNK>\")  # Reserve a token for unknown words\n",
    "tokenizer.fit_on_texts(train['text'].values) \n",
    "vocab_size = len(tokenizer.word_index) + 1  # +1 for padding (index 0 is reserved)\n",
    "print(f\"Vocabulary size: {vocab_size}\")"
   ]
  },
  {
   "cell_type": "code",
   "execution_count": 7,
   "id": "b2834b0a",
   "metadata": {},
   "outputs": [],
   "source": [
    "embedding_dim = 50 # Dimension of the embedding layer\n",
    "max_length = 60  # Maximum length of input sequences\n",
    "\n",
    "train_sequences = tokenizer.texts_to_sequences(train['text'].values)\n",
    "train_padded = pad_sequences(train_sequences, maxlen=max_length, padding='post', truncating='post')\n",
    "valid_sequences = tokenizer.texts_to_sequences(valid['text'].values)\n",
    "valid_padded = pad_sequences(valid_sequences, maxlen=max_length, padding='post', truncating='post')\n",
    "test_sequences = tokenizer.texts_to_sequences(test['text'].values)\n",
    "test_padded = pad_sequences(test_sequences, maxlen=max_length, padding='post', truncating='post')\n",
    "\n",
    "vocab_size = len(tokenizer.word_index) + 1  # +1 for padding (index 0 is reserved)"
   ]
  },
  {
   "cell_type": "code",
   "execution_count": 8,
   "id": "260dd06d",
   "metadata": {},
   "outputs": [
    {
     "name": "stdout",
     "output_type": "stream",
     "text": [
      "95th Percentile Length: 54.0\n",
      "98th Percentile Length: 59.0\n"
     ]
    },
    {
     "data": {
      "image/png": "[encoded data removed]",
      "text/plain": [
       "<Figure size 640x480 with 1 Axes>"
      ]
     },
     "metadata": {},
     "output_type": "display_data"
    }
   ],
   "source": [
    "import matplotlib.pyplot as plt\n",
    "lengths = [len(seq) for seq in tokenizer.texts_to_sequences(train['text'].values)]\n",
    "percentile_95 = np.percentile(lengths, 95)\n",
    "percentile_98 = np.percentile(lengths, 98)\n",
    "print(f\"95th Percentile Length: {percentile_95}\")\n",
    "print(f\"98th Percentile Length: {percentile_98}\")\n",
    "plt.hist(lengths, bins=50)\n",
    "plt.xlabel(\"Sequence Length\")\n",
    "plt.ylabel(\"Frequency\")\n",
    "plt.show()"
   ]
  },
  {
   "cell_type": "code",
   "execution_count": 9,
   "id": "9b25658b",
   "metadata": {},
   "outputs": [
    {
     "name": "stdout",
     "output_type": "stream",
     "text": [
      "Train padded shape: (500, 60)\n",
      "Valid padded shape: (100, 60)\n",
      "Test padded shape: (400, 60)\n"
     ]
    }
   ],
   "source": [
    "print(f\"Train padded shape: {train_padded.shape}\")\n",
    "print(f\"Valid padded shape: {valid_padded.shape}\")\n",
    "print(f\"Test padded shape: {test_padded.shape}\")"
   ]
  },
  {
   "cell_type": "code",
   "execution_count": 21,
   "id": "ca6d4857",
   "metadata": {},
   "outputs": [],
   "source": [
    "def get_weights_per_layer(model, verbose=True):\n",
    "    all_weights = []\n",
    "    for layer in model.layers:\n",
    "        if verbose:\n",
    "            print(f\"Layer: {layer.name}\") \n",
    "        weights = layer.get_weights()\n",
    "        all_weights.append(weights)\n",
    "        if verbose:\n",
    "            for i, w in enumerate(weights):\n",
    "                print(f\"  Weight {i}: shape {w.shape}\")\n",
    "    return all_weights"
   ]
  },
  {
   "cell_type": "markdown",
   "id": "3e4f4f2e",
   "metadata": {},
   "source": [
    "# Pengaruh Jumlah Layer"
   ]
  },
  {
   "cell_type": "code",
   "execution_count": 31,
   "id": "e8906b51",
   "metadata": {},
   "outputs": [],
   "source": [
    "val_loss = []\n",
    "train_loss = []"
   ]
  },
  {
   "cell_type": "markdown",
   "id": "94c43c28",
   "metadata": {},
   "source": [
    "## 1 layer RNN"
   ]
  },
  {
   "cell_type": "code",
   "execution_count": 32,
   "id": "a5935407",
   "metadata": {},
   "outputs": [
    {
     "name": "stdout",
     "output_type": "stream",
     "text": [
      "\u001b[1m13/13\u001b[0m \u001b[32m━━━━━━━━━━━━━━━━━━━━\u001b[0m\u001b[37m\u001b[0m \u001b[1m0s\u001b[0m 14ms/step\n",
      "Macro F1 Score: 0.4460\n"
     ]
    }
   ],
   "source": [
    "# Build the model\n",
    "layer1 = Sequential([\n",
    "    Embedding(input_dim=vocab_size, output_dim=embedding_dim),\n",
    "    SimpleRNN(units=8, activation='tanh', return_sequences=False),\n",
    "    # Dropout(0.5),\n",
    "    Dense(3, activation='softmax')  # for binary classification (e.g., sentiment)\n",
    "])\n",
    "\n",
    "# Compile the model\n",
    "layer1.compile(optimizer='adam', loss='sparse_categorical_crossentropy', metrics=['accuracy'])\n",
    "history = layer1.fit(\n",
    "    train_padded,\n",
    "    train['label'].values,\n",
    "    validation_data=(valid_padded, valid['label'].values),\n",
    "    epochs=10,          # number of passes over the data, adjust as needed\n",
    "    batch_size=32,      # number of samples per batch, adjust as needed\n",
    "    verbose=0          # verbosity mode, 0 = silent, 1 = progress bar, 2 = one line per epoch\n",
    ")\n",
    "\n",
    "val_loss_1 = history.history['val_loss']\n",
    "val_train_1 = history.history['loss']\n",
    "train_loss.append(val_train_1)\n",
    "val_loss.append(val_loss_1)\n",
    "\n",
    "all_weights = get_weights_per_layer(layer1, verbose=False)\n",
    "\n",
    "\n",
    "# Evaluate the model\n",
    "evaluate_model(layer1, test_padded, test['label'])"
   ]
  },
  {
   "cell_type": "code",
   "execution_count": 33,
   "id": "730cf05e",
   "metadata": {},
   "outputs": [
    {
     "name": "stdout",
     "output_type": "stream",
     "text": [
      "Macro F1 Score: 0.4460\n"
     ]
    }
   ],
   "source": [
    "layer1Scratch = RNN([\n",
    "    EmbeddingLayer(vocab_size, embedding_dim),\n",
    "    UnidirectionalRNN(8, return_sequences=False, activation='tanh'),\n",
    "    # DropoutLayer(0.5),\n",
    "    DenseLayer(3, 8, activation='softmax', init_method='zeros')\n",
    "], 32)\n",
    "\n",
    "layer1Scratch.load_weights(all_weights)\n",
    "\n",
    "# Evaluate the model\n",
    "evaluate_model(layer1Scratch, test_padded, test['label'])"
   ]
  },
  {
   "cell_type": "markdown",
   "id": "e5a55ac3",
   "metadata": {},
   "source": [
    "## 2 Layer RNN"
   ]
  },
  {
   "cell_type": "code",
   "execution_count": 34,
   "id": "ecc38ee6",
   "metadata": {},
   "outputs": [
    {
     "name": "stdout",
     "output_type": "stream",
     "text": [
      "\u001b[1m13/13\u001b[0m \u001b[32m━━━━━━━━━━━━━━━━━━━━\u001b[0m\u001b[37m\u001b[0m \u001b[1m1s\u001b[0m 26ms/step\n",
      "Macro F1 Score: 0.4739\n"
     ]
    }
   ],
   "source": [
    "# Build the model\n",
    "layer2 = Sequential([\n",
    "    Embedding(input_dim=vocab_size, output_dim=embedding_dim),\n",
    "    SimpleRNN(units=8, activation='tanh', return_sequences=True),\n",
    "    SimpleRNN(units=8, activation='tanh', return_sequences=False),\n",
    "    # Dropout(0.5),\n",
    "    Dense(3, activation='softmax')  # for binary classification (e.g., sentiment)\n",
    "])\n",
    "\n",
    "# Compile the model\n",
    "layer2.compile(optimizer='adam', loss='sparse_categorical_crossentropy', metrics=['accuracy'])\n",
    "history = layer2.fit(\n",
    "    train_padded,\n",
    "    train['label'].values,\n",
    "    validation_data=(valid_padded, valid['label'].values),\n",
    "    epochs=10,          # number of passes over the data, adjust as needed\n",
    "    batch_size=32,      # number of samples per batch, adjust as needed\n",
    "    verbose=0          # verbosity mode, 0 = silent, 1 = progress bar, 2 = one line per epoch\n",
    ")\n",
    "\n",
    "val_loss_2 = history.history['val_loss']\n",
    "val_train_2 = history.history['loss']\n",
    "train_loss.append(val_train_2)\n",
    "val_loss.append(val_loss_2)\n",
    "\n",
    "all_weights = get_weights_per_layer(layer2, verbose=False)\n",
    "\n",
    "# Evaluate the model\n",
    "evaluate_model(layer2, test_padded, test['label'])"
   ]
  },
  {
   "cell_type": "code",
   "execution_count": 38,
   "id": "8f826865",
   "metadata": {},
   "outputs": [
    {
     "name": "stdout",
     "output_type": "stream",
     "text": [
      "Macro F1 Score: 0.4739\n"
     ]
    }
   ],
   "source": [
    "layer2Scratch = RNN([\n",
    "    EmbeddingLayer(vocab_size, embedding_dim),\n",
    "    UnidirectionalRNN(8, return_sequences=True, activation='tanh'),\n",
    "    UnidirectionalRNN(8, return_sequences=False, activation='tanh'),\n",
    "    # DropoutLayer(0.5),\n",
    "    DenseLayer(3, 8, activation='softmax', init_method='zeros')\n",
    "], 32)\n",
    "\n",
    "layer2Scratch.load_weights(all_weights)\n",
    "\n",
    "# Evaluate the model\n",
    "evaluate_model(layer2Scratch, test_padded, test['label'])"
   ]
  },
  {
   "cell_type": "markdown",
   "id": "e8752bc7",
   "metadata": {},
   "source": [
    "## 3 Layer RNN\n"
   ]
  },
  {
   "cell_type": "code",
   "execution_count": 39,
   "id": "2c0cf259",
   "metadata": {},
   "outputs": [
    {
     "name": "stdout",
     "output_type": "stream",
     "text": [
      "\u001b[1m13/13\u001b[0m \u001b[32m━━━━━━━━━━━━━━━━━━━━\u001b[0m\u001b[37m\u001b[0m \u001b[1m1s\u001b[0m 33ms/step\n",
      "Macro F1 Score: 0.3689\n"
     ]
    }
   ],
   "source": [
    "# Build the model\n",
    "layer3 = Sequential([\n",
    "    Embedding(input_dim=vocab_size, output_dim=embedding_dim),\n",
    "    SimpleRNN(units=8, activation='tanh', return_sequences=True),\n",
    "    SimpleRNN(units=8, activation='tanh', return_sequences=True),\n",
    "    SimpleRNN(units=8, activation='tanh', return_sequences=False),\n",
    "    # Dropout(0.5),\n",
    "    Dense(3, activation='softmax')  # for binary classification (e.g., sentiment)\n",
    "])\n",
    "\n",
    "# Compile the model\n",
    "layer3.compile(optimizer='adam', loss='sparse_categorical_crossentropy', metrics=['accuracy'])\n",
    "history = layer3.fit(\n",
    "    train_padded,\n",
    "    train['label'].values,\n",
    "    validation_data=(valid_padded, valid['label'].values),\n",
    "    epochs=10,          # number of passes over the data, adjust as needed\n",
    "    batch_size=32,      # number of samples per batch, adjust as needed\n",
    "    verbose=0          # verbosity mode, 0 = silent, 1 = progress bar, 2 = one line per epoch\n",
    ")\n",
    "\n",
    "val_loss_2 = history.history['val_loss']\n",
    "val_train_2 = history.history['loss']\n",
    "train_loss.append(val_train_2)\n",
    "val_loss.append(val_loss_2)\n",
    "\n",
    "all_weights = get_weights_per_layer(layer3, verbose=False)\n",
    "\n",
    "# Evaluate the model\n",
    "evaluate_model(layer3, test_padded, test['label'])"
   ]
  },
  {
   "cell_type": "code",
   "execution_count": 41,
   "id": "f1579cb8",
   "metadata": {},
   "outputs": [
    {
     "name": "stdout",
     "output_type": "stream",
     "text": [
      "Macro F1 Score: 0.3689\n"
     ]
    }
   ],
   "source": [
    "layer3Scratch = RNN([\n",
    "    EmbeddingLayer(vocab_size, embedding_dim),\n",
    "    UnidirectionalRNN(8, return_sequences=True, activation='tanh'),\n",
    "    UnidirectionalRNN(8, return_sequences=True, activation='tanh'),\n",
    "    UnidirectionalRNN(8, return_sequences=False, activation='tanh'),\n",
    "    # DropoutLayer(0.5),\n",
    "    DenseLayer(3, 8, activation='softmax', init_method='zeros')\n",
    "], 32)\n",
    "\n",
    "layer3Scratch.load_weights(all_weights)\n",
    "\n",
    "# Evaluate the model\n",
    "evaluate_model(layer3Scratch, test_padded, test['label'])"
   ]
  }
 ],
 "metadata": {
  "kernelspec": {
   "display_name": "base",
   "language": "python",
   "name": "python3"
  },
  "language_info": {
   "codemirror_mode": {
    "name": "ipython",
    "version": 3
   },
   "file_extension": ".py",
   "mimetype": "text/x-python",
   "name": "python",
   "nbconvert_exporter": "python",
   "pygments_lexer": "ipython3",
   "version": "3.12.4"
  }
 },
 "nbformat": 4,
 "nbformat_minor": 5
}
